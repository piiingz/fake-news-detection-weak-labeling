{
 "cells": [
  {
   "cell_type": "code",
   "execution_count": 1,
   "metadata": {},
   "outputs": [],
   "source": [
    "import pandas as pd\n",
    "import sqlite3\n",
    "import seaborn as sns\n",
    "import matplotlib.pyplot as plt\n",
    "import time\n",
    "\n",
    "from sklearn.model_selection import train_test_split\n",
    "from sklearn.utils import shuffle"
   ]
  },
  {
   "cell_type": "code",
   "execution_count": 2,
   "metadata": {},
   "outputs": [],
   "source": [
    "label_path = './data/sources/labels.csv'\n",
    "db_path = './data/nela-eng-2019.db'"
   ]
  },
  {
   "cell_type": "markdown",
   "metadata": {},
   "source": [
    "## Source Labels"
   ]
  },
  {
   "cell_type": "code",
   "execution_count": 3,
   "metadata": {},
   "outputs": [],
   "source": [
    "source_labels = pd.read_csv(label_path)"
   ]
  },
  {
   "cell_type": "code",
   "execution_count": 4,
   "metadata": {},
   "outputs": [
    {
     "data": {
      "text/html": [
       "<div>\n",
       "<style scoped>\n",
       "    .dataframe tbody tr th:only-of-type {\n",
       "        vertical-align: middle;\n",
       "    }\n",
       "\n",
       "    .dataframe tbody tr th {\n",
       "        vertical-align: top;\n",
       "    }\n",
       "\n",
       "    .dataframe thead th {\n",
       "        text-align: right;\n",
       "    }\n",
       "</style>\n",
       "<table border=\"1\" class=\"dataframe\">\n",
       "  <thead>\n",
       "    <tr style=\"text-align: right;\">\n",
       "      <th></th>\n",
       "      <th>source</th>\n",
       "      <th>aggregated_label</th>\n",
       "      <th>Pew Research Center, known_by_40%</th>\n",
       "      <th>Pew Research Center, total</th>\n",
       "      <th>Pew Research Center, consistently_liberal</th>\n",
       "      <th>Pew Research Center, mostly_liberal</th>\n",
       "      <th>Pew Research Center, mixed</th>\n",
       "      <th>Pew Research Center, mostly conservative</th>\n",
       "      <th>Pew Research Center, consistently conservative</th>\n",
       "      <th>Wikipedia, is_fake</th>\n",
       "      <th>...</th>\n",
       "      <th>Allsides, community_agree</th>\n",
       "      <th>Allsides, community_disagree</th>\n",
       "      <th>Allsides, community_label</th>\n",
       "      <th>BuzzFeed, leaning</th>\n",
       "      <th>PolitiFact, Pants on Fire!</th>\n",
       "      <th>PolitiFact, False</th>\n",
       "      <th>PolitiFact, Mostly False</th>\n",
       "      <th>PolitiFact, Half-True</th>\n",
       "      <th>PolitiFact, Mostly True</th>\n",
       "      <th>PolitiFact, True</th>\n",
       "    </tr>\n",
       "  </thead>\n",
       "  <tbody>\n",
       "    <tr>\n",
       "      <th>0</th>\n",
       "      <td>21stcenturywire</td>\n",
       "      <td>2.0</td>\n",
       "      <td>NaN</td>\n",
       "      <td>NaN</td>\n",
       "      <td>NaN</td>\n",
       "      <td>NaN</td>\n",
       "      <td>NaN</td>\n",
       "      <td>NaN</td>\n",
       "      <td>NaN</td>\n",
       "      <td>NaN</td>\n",
       "      <td>...</td>\n",
       "      <td>NaN</td>\n",
       "      <td>NaN</td>\n",
       "      <td>NaN</td>\n",
       "      <td>left</td>\n",
       "      <td>NaN</td>\n",
       "      <td>NaN</td>\n",
       "      <td>NaN</td>\n",
       "      <td>NaN</td>\n",
       "      <td>NaN</td>\n",
       "      <td>NaN</td>\n",
       "    </tr>\n",
       "    <tr>\n",
       "      <th>1</th>\n",
       "      <td>abcnews</td>\n",
       "      <td>0.0</td>\n",
       "      <td>1.0</td>\n",
       "      <td>1.0</td>\n",
       "      <td>1.0</td>\n",
       "      <td>1.0</td>\n",
       "      <td>1.0</td>\n",
       "      <td>1.0</td>\n",
       "      <td>-1.0</td>\n",
       "      <td>NaN</td>\n",
       "      <td>...</td>\n",
       "      <td>8964.0</td>\n",
       "      <td>6949.0</td>\n",
       "      <td>somewhat agree</td>\n",
       "      <td>NaN</td>\n",
       "      <td>NaN</td>\n",
       "      <td>NaN</td>\n",
       "      <td>NaN</td>\n",
       "      <td>NaN</td>\n",
       "      <td>NaN</td>\n",
       "      <td>NaN</td>\n",
       "    </tr>\n",
       "    <tr>\n",
       "      <th>2</th>\n",
       "      <td>activistpost</td>\n",
       "      <td>2.0</td>\n",
       "      <td>NaN</td>\n",
       "      <td>NaN</td>\n",
       "      <td>NaN</td>\n",
       "      <td>NaN</td>\n",
       "      <td>NaN</td>\n",
       "      <td>NaN</td>\n",
       "      <td>NaN</td>\n",
       "      <td>NaN</td>\n",
       "      <td>...</td>\n",
       "      <td>NaN</td>\n",
       "      <td>NaN</td>\n",
       "      <td>NaN</td>\n",
       "      <td>left</td>\n",
       "      <td>NaN</td>\n",
       "      <td>NaN</td>\n",
       "      <td>NaN</td>\n",
       "      <td>NaN</td>\n",
       "      <td>NaN</td>\n",
       "      <td>NaN</td>\n",
       "    </tr>\n",
       "    <tr>\n",
       "      <th>3</th>\n",
       "      <td>addictinginfo</td>\n",
       "      <td>1.0</td>\n",
       "      <td>NaN</td>\n",
       "      <td>NaN</td>\n",
       "      <td>NaN</td>\n",
       "      <td>NaN</td>\n",
       "      <td>NaN</td>\n",
       "      <td>NaN</td>\n",
       "      <td>NaN</td>\n",
       "      <td>NaN</td>\n",
       "      <td>...</td>\n",
       "      <td>NaN</td>\n",
       "      <td>NaN</td>\n",
       "      <td>NaN</td>\n",
       "      <td>left</td>\n",
       "      <td>NaN</td>\n",
       "      <td>NaN</td>\n",
       "      <td>NaN</td>\n",
       "      <td>NaN</td>\n",
       "      <td>NaN</td>\n",
       "      <td>NaN</td>\n",
       "    </tr>\n",
       "    <tr>\n",
       "      <th>4</th>\n",
       "      <td>adobochronicles</td>\n",
       "      <td>NaN</td>\n",
       "      <td>NaN</td>\n",
       "      <td>NaN</td>\n",
       "      <td>NaN</td>\n",
       "      <td>NaN</td>\n",
       "      <td>NaN</td>\n",
       "      <td>NaN</td>\n",
       "      <td>NaN</td>\n",
       "      <td>NaN</td>\n",
       "      <td>...</td>\n",
       "      <td>NaN</td>\n",
       "      <td>NaN</td>\n",
       "      <td>NaN</td>\n",
       "      <td>NaN</td>\n",
       "      <td>NaN</td>\n",
       "      <td>NaN</td>\n",
       "      <td>NaN</td>\n",
       "      <td>NaN</td>\n",
       "      <td>NaN</td>\n",
       "      <td>NaN</td>\n",
       "    </tr>\n",
       "  </tbody>\n",
       "</table>\n",
       "<p>5 rows × 48 columns</p>\n",
       "</div>"
      ],
      "text/plain": [
       "            source  aggregated_label  Pew Research Center, known_by_40%  \\\n",
       "0  21stcenturywire               2.0                                NaN   \n",
       "1          abcnews               0.0                                1.0   \n",
       "2     activistpost               2.0                                NaN   \n",
       "3    addictinginfo               1.0                                NaN   \n",
       "4  adobochronicles               NaN                                NaN   \n",
       "\n",
       "   Pew Research Center, total  Pew Research Center, consistently_liberal  \\\n",
       "0                         NaN                                        NaN   \n",
       "1                         1.0                                        1.0   \n",
       "2                         NaN                                        NaN   \n",
       "3                         NaN                                        NaN   \n",
       "4                         NaN                                        NaN   \n",
       "\n",
       "   Pew Research Center, mostly_liberal  Pew Research Center, mixed  \\\n",
       "0                                  NaN                         NaN   \n",
       "1                                  1.0                         1.0   \n",
       "2                                  NaN                         NaN   \n",
       "3                                  NaN                         NaN   \n",
       "4                                  NaN                         NaN   \n",
       "\n",
       "   Pew Research Center, mostly conservative  \\\n",
       "0                                       NaN   \n",
       "1                                       1.0   \n",
       "2                                       NaN   \n",
       "3                                       NaN   \n",
       "4                                       NaN   \n",
       "\n",
       "   Pew Research Center, consistently conservative  Wikipedia, is_fake  ...  \\\n",
       "0                                             NaN                 NaN  ...   \n",
       "1                                            -1.0                 NaN  ...   \n",
       "2                                             NaN                 NaN  ...   \n",
       "3                                             NaN                 NaN  ...   \n",
       "4                                             NaN                 NaN  ...   \n",
       "\n",
       "   Allsides, community_agree  Allsides, community_disagree  \\\n",
       "0                        NaN                           NaN   \n",
       "1                     8964.0                        6949.0   \n",
       "2                        NaN                           NaN   \n",
       "3                        NaN                           NaN   \n",
       "4                        NaN                           NaN   \n",
       "\n",
       "   Allsides, community_label  BuzzFeed, leaning  PolitiFact, Pants on Fire!  \\\n",
       "0                        NaN               left                         NaN   \n",
       "1             somewhat agree                NaN                         NaN   \n",
       "2                        NaN               left                         NaN   \n",
       "3                        NaN               left                         NaN   \n",
       "4                        NaN                NaN                         NaN   \n",
       "\n",
       "   PolitiFact, False  PolitiFact, Mostly False  PolitiFact, Half-True  \\\n",
       "0                NaN                       NaN                    NaN   \n",
       "1                NaN                       NaN                    NaN   \n",
       "2                NaN                       NaN                    NaN   \n",
       "3                NaN                       NaN                    NaN   \n",
       "4                NaN                       NaN                    NaN   \n",
       "\n",
       "   PolitiFact, Mostly True  PolitiFact, True  \n",
       "0                      NaN               NaN  \n",
       "1                      NaN               NaN  \n",
       "2                      NaN               NaN  \n",
       "3                      NaN               NaN  \n",
       "4                      NaN               NaN  \n",
       "\n",
       "[5 rows x 48 columns]"
      ]
     },
     "execution_count": 4,
     "metadata": {},
     "output_type": "execute_result"
    }
   ],
   "source": [
    "source_labels.head()"
   ]
  },
  {
   "cell_type": "code",
   "execution_count": 5,
   "metadata": {},
   "outputs": [
    {
     "name": "stdout",
     "output_type": "stream",
     "text": [
      "<class 'pandas.core.frame.DataFrame'>\n",
      "RangeIndex: 260 entries, 0 to 259\n",
      "Data columns (total 48 columns):\n",
      " #   Column                                          Non-Null Count  Dtype  \n",
      "---  ------                                          --------------  -----  \n",
      " 0   source                                          260 non-null    object \n",
      " 1   aggregated_label                                183 non-null    float64\n",
      " 2   Pew Research Center, known_by_40%               25 non-null     float64\n",
      " 3   Pew Research Center, total                      25 non-null     float64\n",
      " 4   Pew Research Center, consistently_liberal       25 non-null     float64\n",
      " 5   Pew Research Center, mostly_liberal             25 non-null     float64\n",
      " 6   Pew Research Center, mixed                      25 non-null     float64\n",
      " 7   Pew Research Center, mostly conservative        25 non-null     float64\n",
      " 8   Pew Research Center, consistently conservative  25 non-null     float64\n",
      " 9   Wikipedia, is_fake                              5 non-null      float64\n",
      " 10  Open Sources, reliable                          2 non-null      float64\n",
      " 11  Open Sources, fake                              4 non-null      float64\n",
      " 12  Open Sources, unreliable                        14 non-null     float64\n",
      " 13  Open Sources, bias                              24 non-null     float64\n",
      " 14  Open Sources, conspiracy                        15 non-null     float64\n",
      " 15  Open Sources, hate                              2 non-null      float64\n",
      " 16  Open Sources, junksci                           3 non-null      float64\n",
      " 17  Open Sources, rumor                             2 non-null      float64\n",
      " 18  Open Sources, blog                              0 non-null      float64\n",
      " 19  Open Sources, clickbait                         14 non-null     float64\n",
      " 20  Open Sources, political                         18 non-null     float64\n",
      " 21  Open Sources, satire                            11 non-null     float64\n",
      " 22  Open Sources, state                             2 non-null      float64\n",
      " 23  Media Bias / Fact Check, label                  198 non-null    object \n",
      " 24  Media Bias / Fact Check, factual_reporting      169 non-null    float64\n",
      " 25  Media Bias / Fact Check, extreme_left           197 non-null    float64\n",
      " 26  Media Bias / Fact Check, right                  197 non-null    float64\n",
      " 27  Media Bias / Fact Check, extreme_right          197 non-null    float64\n",
      " 28  Media Bias / Fact Check, propaganda             197 non-null    float64\n",
      " 29  Media Bias / Fact Check, fake_news              197 non-null    float64\n",
      " 30  Media Bias / Fact Check, some_fake_news         197 non-null    float64\n",
      " 31  Media Bias / Fact Check, failed_fact_checks     197 non-null    float64\n",
      " 32  Media Bias / Fact Check, conspiracy             197 non-null    float64\n",
      " 33  Media Bias / Fact Check, pseudoscience          197 non-null    float64\n",
      " 34  Media Bias / Fact Check, hate_group             197 non-null    float64\n",
      " 35  Media Bias / Fact Check, anti_islam             197 non-null    float64\n",
      " 36  Media Bias / Fact Check, nationalism            197 non-null    float64\n",
      " 37  Allsides, bias_rating                           78 non-null     object \n",
      " 38  Allsides, community_agree                       76 non-null     float64\n",
      " 39  Allsides, community_disagree                    76 non-null     float64\n",
      " 40  Allsides, community_label                       75 non-null     object \n",
      " 41  BuzzFeed, leaning                               53 non-null     object \n",
      " 42  PolitiFact, Pants on Fire!                      32 non-null     float64\n",
      " 43  PolitiFact, False                               32 non-null     float64\n",
      " 44  PolitiFact, Mostly False                        32 non-null     float64\n",
      " 45  PolitiFact, Half-True                           32 non-null     float64\n",
      " 46  PolitiFact, Mostly True                         32 non-null     float64\n",
      " 47  PolitiFact, True                                32 non-null     float64\n",
      "dtypes: float64(43), object(5)\n",
      "memory usage: 97.6+ KB\n"
     ]
    }
   ],
   "source": [
    "source_labels.info()"
   ]
  },
  {
   "cell_type": "markdown",
   "metadata": {},
   "source": [
    "* _Reliable_ - class 0\n",
    "* _Mixed_ - class 1\n",
    "* _Unreliable_ - class 2"
   ]
  },
  {
   "cell_type": "code",
   "execution_count": 9,
   "metadata": {},
   "outputs": [],
   "source": [
    "source_labels_aggregated = source_labels[['source', 'aggregated_label']].copy()"
   ]
  },
  {
   "cell_type": "code",
   "execution_count": 10,
   "metadata": {},
   "outputs": [
    {
     "name": "stdout",
     "output_type": "stream",
     "text": [
      "<class 'pandas.core.frame.DataFrame'>\n",
      "RangeIndex: 260 entries, 0 to 259\n",
      "Data columns (total 2 columns):\n",
      " #   Column            Non-Null Count  Dtype  \n",
      "---  ------            --------------  -----  \n",
      " 0   source            260 non-null    object \n",
      " 1   aggregated_label  183 non-null    float64\n",
      "dtypes: float64(1), object(1)\n",
      "memory usage: 4.2+ KB\n"
     ]
    }
   ],
   "source": [
    "source_labels_aggregated.info()"
   ]
  },
  {
   "cell_type": "code",
   "execution_count": 11,
   "metadata": {},
   "outputs": [
    {
     "data": {
      "text/plain": [
       "77"
      ]
     },
     "execution_count": 11,
     "metadata": {},
     "output_type": "execute_result"
    }
   ],
   "source": [
    "source_labels['aggregated_label'].isna().sum()"
   ]
  },
  {
   "cell_type": "code",
   "execution_count": 12,
   "metadata": {},
   "outputs": [],
   "source": [
    "source_labels_aggregated = source_labels_aggregated.rename(columns={'aggregated_label':'label'})"
   ]
  },
  {
   "cell_type": "markdown",
   "metadata": {},
   "source": [
    "Notice that some (77) sources have NaN as aggregated label, maybe we should eliminate these sources? At least not use them for evaluation, but only for training? And how do we handle the ones with label 1 - mixed?"
   ]
  },
  {
   "cell_type": "markdown",
   "metadata": {},
   "source": [
    "### Extract only fake and real news sources "
   ]
  },
  {
   "cell_type": "code",
   "execution_count": 13,
   "metadata": {},
   "outputs": [],
   "source": [
    "fake_sources = source_labels_aggregated.loc[source_labels_aggregated.label == 2.0]"
   ]
  },
  {
   "cell_type": "code",
   "execution_count": 14,
   "metadata": {},
   "outputs": [
    {
     "name": "stdout",
     "output_type": "stream",
     "text": [
      "<class 'pandas.core.frame.DataFrame'>\n",
      "Int64Index: 50 entries, 0 to 259\n",
      "Data columns (total 2 columns):\n",
      " #   Column  Non-Null Count  Dtype  \n",
      "---  ------  --------------  -----  \n",
      " 0   source  50 non-null     object \n",
      " 1   label   50 non-null     float64\n",
      "dtypes: float64(1), object(1)\n",
      "memory usage: 1.2+ KB\n"
     ]
    }
   ],
   "source": [
    "fake_sources.info()"
   ]
  },
  {
   "cell_type": "code",
   "execution_count": 11,
   "metadata": {},
   "outputs": [],
   "source": [
    "fake_sources = fake_sources.reset_index(drop=True)"
   ]
  },
  {
   "cell_type": "code",
   "execution_count": 12,
   "metadata": {},
   "outputs": [],
   "source": [
    "fake_sources.index.name = 'id'"
   ]
  },
  {
   "cell_type": "code",
   "execution_count": 13,
   "metadata": {},
   "outputs": [
    {
     "data": {
      "text/html": [
       "<div>\n",
       "<style scoped>\n",
       "    .dataframe tbody tr th:only-of-type {\n",
       "        vertical-align: middle;\n",
       "    }\n",
       "\n",
       "    .dataframe tbody tr th {\n",
       "        vertical-align: top;\n",
       "    }\n",
       "\n",
       "    .dataframe thead th {\n",
       "        text-align: right;\n",
       "    }\n",
       "</style>\n",
       "<table border=\"1\" class=\"dataframe\">\n",
       "  <thead>\n",
       "    <tr style=\"text-align: right;\">\n",
       "      <th></th>\n",
       "      <th>source</th>\n",
       "      <th>label</th>\n",
       "    </tr>\n",
       "    <tr>\n",
       "      <th>id</th>\n",
       "      <th></th>\n",
       "      <th></th>\n",
       "    </tr>\n",
       "  </thead>\n",
       "  <tbody>\n",
       "    <tr>\n",
       "      <th>0</th>\n",
       "      <td>21stcenturywire</td>\n",
       "      <td>2.0</td>\n",
       "    </tr>\n",
       "    <tr>\n",
       "      <th>1</th>\n",
       "      <td>activistpost</td>\n",
       "      <td>2.0</td>\n",
       "    </tr>\n",
       "    <tr>\n",
       "      <th>2</th>\n",
       "      <td>ageofautism</td>\n",
       "      <td>2.0</td>\n",
       "    </tr>\n",
       "    <tr>\n",
       "      <th>3</th>\n",
       "      <td>bigleaguepolitics</td>\n",
       "      <td>2.0</td>\n",
       "    </tr>\n",
       "    <tr>\n",
       "      <th>4</th>\n",
       "      <td>bipartisanreport</td>\n",
       "      <td>2.0</td>\n",
       "    </tr>\n",
       "  </tbody>\n",
       "</table>\n",
       "</div>"
      ],
      "text/plain": [
       "               source  label\n",
       "id                          \n",
       "0     21stcenturywire    2.0\n",
       "1        activistpost    2.0\n",
       "2         ageofautism    2.0\n",
       "3   bigleaguepolitics    2.0\n",
       "4    bipartisanreport    2.0"
      ]
     },
     "execution_count": 13,
     "metadata": {},
     "output_type": "execute_result"
    }
   ],
   "source": [
    "fake_sources.head()"
   ]
  },
  {
   "cell_type": "code",
   "execution_count": 14,
   "metadata": {},
   "outputs": [],
   "source": [
    "fake_sources = fake_sources.replace(2.0, 1.0)"
   ]
  },
  {
   "cell_type": "code",
   "execution_count": 15,
   "metadata": {},
   "outputs": [
    {
     "data": {
      "text/html": [
       "<div>\n",
       "<style scoped>\n",
       "    .dataframe tbody tr th:only-of-type {\n",
       "        vertical-align: middle;\n",
       "    }\n",
       "\n",
       "    .dataframe tbody tr th {\n",
       "        vertical-align: top;\n",
       "    }\n",
       "\n",
       "    .dataframe thead th {\n",
       "        text-align: right;\n",
       "    }\n",
       "</style>\n",
       "<table border=\"1\" class=\"dataframe\">\n",
       "  <thead>\n",
       "    <tr style=\"text-align: right;\">\n",
       "      <th></th>\n",
       "      <th>source</th>\n",
       "      <th>label</th>\n",
       "    </tr>\n",
       "    <tr>\n",
       "      <th>id</th>\n",
       "      <th></th>\n",
       "      <th></th>\n",
       "    </tr>\n",
       "  </thead>\n",
       "  <tbody>\n",
       "    <tr>\n",
       "      <th>0</th>\n",
       "      <td>21stcenturywire</td>\n",
       "      <td>1.0</td>\n",
       "    </tr>\n",
       "    <tr>\n",
       "      <th>1</th>\n",
       "      <td>activistpost</td>\n",
       "      <td>1.0</td>\n",
       "    </tr>\n",
       "    <tr>\n",
       "      <th>2</th>\n",
       "      <td>ageofautism</td>\n",
       "      <td>1.0</td>\n",
       "    </tr>\n",
       "    <tr>\n",
       "      <th>3</th>\n",
       "      <td>bigleaguepolitics</td>\n",
       "      <td>1.0</td>\n",
       "    </tr>\n",
       "    <tr>\n",
       "      <th>4</th>\n",
       "      <td>bipartisanreport</td>\n",
       "      <td>1.0</td>\n",
       "    </tr>\n",
       "  </tbody>\n",
       "</table>\n",
       "</div>"
      ],
      "text/plain": [
       "               source  label\n",
       "id                          \n",
       "0     21stcenturywire    1.0\n",
       "1        activistpost    1.0\n",
       "2         ageofautism    1.0\n",
       "3   bigleaguepolitics    1.0\n",
       "4    bipartisanreport    1.0"
      ]
     },
     "execution_count": 15,
     "metadata": {},
     "output_type": "execute_result"
    }
   ],
   "source": [
    "fake_sources.head()"
   ]
  },
  {
   "cell_type": "code",
   "execution_count": 15,
   "metadata": {},
   "outputs": [],
   "source": [
    "real_sources = source_labels_aggregated.loc[source_labels_aggregated.label == 0.0]"
   ]
  },
  {
   "cell_type": "code",
   "execution_count": 16,
   "metadata": {},
   "outputs": [
    {
     "name": "stdout",
     "output_type": "stream",
     "text": [
      "<class 'pandas.core.frame.DataFrame'>\n",
      "Int64Index: 83 entries, 1 to 257\n",
      "Data columns (total 2 columns):\n",
      " #   Column  Non-Null Count  Dtype  \n",
      "---  ------  --------------  -----  \n",
      " 0   source  83 non-null     object \n",
      " 1   label   83 non-null     float64\n",
      "dtypes: float64(1), object(1)\n",
      "memory usage: 1.9+ KB\n"
     ]
    }
   ],
   "source": [
    "real_sources.info()"
   ]
  },
  {
   "cell_type": "code",
   "execution_count": 17,
   "metadata": {},
   "outputs": [],
   "source": [
    "real_sources = real_sources.reset_index(drop=True)"
   ]
  },
  {
   "cell_type": "code",
   "execution_count": 18,
   "metadata": {},
   "outputs": [],
   "source": [
    "real_sources.index.name = 'id'"
   ]
  },
  {
   "cell_type": "code",
   "execution_count": 19,
   "metadata": {},
   "outputs": [
    {
     "data": {
      "text/html": [
       "<div>\n",
       "<style scoped>\n",
       "    .dataframe tbody tr th:only-of-type {\n",
       "        vertical-align: middle;\n",
       "    }\n",
       "\n",
       "    .dataframe tbody tr th {\n",
       "        vertical-align: top;\n",
       "    }\n",
       "\n",
       "    .dataframe thead th {\n",
       "        text-align: right;\n",
       "    }\n",
       "</style>\n",
       "<table border=\"1\" class=\"dataframe\">\n",
       "  <thead>\n",
       "    <tr style=\"text-align: right;\">\n",
       "      <th></th>\n",
       "      <th>source</th>\n",
       "      <th>label</th>\n",
       "    </tr>\n",
       "    <tr>\n",
       "      <th>id</th>\n",
       "      <th></th>\n",
       "      <th></th>\n",
       "    </tr>\n",
       "  </thead>\n",
       "  <tbody>\n",
       "    <tr>\n",
       "      <th>0</th>\n",
       "      <td>abcnews</td>\n",
       "      <td>0.0</td>\n",
       "    </tr>\n",
       "    <tr>\n",
       "      <th>1</th>\n",
       "      <td>airwars</td>\n",
       "      <td>0.0</td>\n",
       "    </tr>\n",
       "    <tr>\n",
       "      <th>2</th>\n",
       "      <td>aljazeera</td>\n",
       "      <td>0.0</td>\n",
       "    </tr>\n",
       "    <tr>\n",
       "      <th>3</th>\n",
       "      <td>americablognews</td>\n",
       "      <td>0.0</td>\n",
       "    </tr>\n",
       "    <tr>\n",
       "      <th>4</th>\n",
       "      <td>bbc</td>\n",
       "      <td>0.0</td>\n",
       "    </tr>\n",
       "  </tbody>\n",
       "</table>\n",
       "</div>"
      ],
      "text/plain": [
       "             source  label\n",
       "id                        \n",
       "0           abcnews    0.0\n",
       "1           airwars    0.0\n",
       "2         aljazeera    0.0\n",
       "3   americablognews    0.0\n",
       "4               bbc    0.0"
      ]
     },
     "execution_count": 19,
     "metadata": {},
     "output_type": "execute_result"
    }
   ],
   "source": [
    "real_sources.head()"
   ]
  },
  {
   "cell_type": "markdown",
   "metadata": {},
   "source": [
    "#### Save to file"
   ]
  },
  {
   "cell_type": "code",
   "execution_count": 22,
   "metadata": {},
   "outputs": [],
   "source": [
    "fake_sources.to_csv('./data/sources/fake_sources.csv', index = True)\n",
    "real_sources.to_csv('./data/sources/real_sources.csv', index = True)"
   ]
  },
  {
   "cell_type": "markdown",
   "metadata": {},
   "source": [
    "## Fetch data"
   ]
  },
  {
   "cell_type": "code",
   "execution_count": 20,
   "metadata": {},
   "outputs": [],
   "source": [
    "def execute_query_pandas(query):\n",
    "    conn = sqlite3.connect(db_path)\n",
    "    df = pd.read_sql_query(query, conn)\n",
    "    conn.close()\n",
    "    return df\n",
    "\n",
    "def fetch_articles_by_source(source):\n",
    "    query = \"SELECT * FROM newsdata WHERE source='%s'\" % source\n",
    "    articles = execute_query_pandas(query)\n",
    "    return articles\n",
    "\n",
    "def fetch_random_articles_by_source(source, n):\n",
    "    query = \"SELECT * FROM newsdata WHERE source='%s' ORDER BY RANDOM() LIMIT %d\" % (source, n)\n",
    "    articles = execute_query_pandas(query)\n",
    "    return articles"
   ]
  },
  {
   "cell_type": "markdown",
   "metadata": {},
   "source": [
    "### Select 100 random articles from each real news source"
   ]
  },
  {
   "cell_type": "code",
   "execution_count": 24,
   "metadata": {},
   "outputs": [],
   "source": [
    "real_sources = pd.read_csv('./data/sources/real_sources.csv')"
   ]
  },
  {
   "cell_type": "code",
   "execution_count": 25,
   "metadata": {},
   "outputs": [],
   "source": [
    "source_names = real_sources.source"
   ]
  },
  {
   "cell_type": "code",
   "execution_count": 39,
   "metadata": {},
   "outputs": [
    {
     "data": {
      "text/plain": [
       "0            abcnews\n",
       "1            airwars\n",
       "2          aljazeera\n",
       "3    americablognews\n",
       "4                bbc\n",
       "Name: source, dtype: object"
      ]
     },
     "execution_count": 39,
     "metadata": {},
     "output_type": "execute_result"
    }
   ],
   "source": [
    "source_names.head()"
   ]
  },
  {
   "cell_type": "code",
   "execution_count": 176,
   "metadata": {},
   "outputs": [
    {
     "name": "stdout",
     "output_type": "stream",
     "text": [
      "1323.8817031383514\n"
     ]
    }
   ],
   "source": [
    "real_articles = []\n",
    "\n",
    "start_time = time.time()\n",
    "\n",
    "for name in source_names:\n",
    "    articles = fetch_random_articles_by_source(name, 100)\n",
    "    real_articles.append(articles)\n",
    "    \n",
    "print(time.time() - start_time)"
   ]
  },
  {
   "cell_type": "code",
   "execution_count": 178,
   "metadata": {},
   "outputs": [],
   "source": [
    "df_real_articles = pd.concat(real_articles, ignore_index=True)"
   ]
  },
  {
   "cell_type": "code",
   "execution_count": 179,
   "metadata": {},
   "outputs": [],
   "source": [
    "df_real_articles.to_csv('./data/real_articles_subset.csv')"
   ]
  },
  {
   "cell_type": "markdown",
   "metadata": {},
   "source": [
    "### Select all articles from real news sources"
   ]
  },
  {
   "cell_type": "code",
   "execution_count": 21,
   "metadata": {},
   "outputs": [],
   "source": [
    "real_sources = pd.read_csv('./data/sources/real_sources.csv')"
   ]
  },
  {
   "cell_type": "code",
   "execution_count": 22,
   "metadata": {},
   "outputs": [],
   "source": [
    "source_names = real_sources.source"
   ]
  },
  {
   "cell_type": "code",
   "execution_count": 23,
   "metadata": {},
   "outputs": [
    {
     "name": "stdout",
     "output_type": "stream",
     "text": [
      "0.0\n",
      "1.2\n",
      "2.41\n",
      "3.61\n",
      "4.82\n",
      "6.02\n",
      "7.23\n",
      "8.43\n",
      "9.64\n",
      "10.84\n",
      "12.05\n",
      "13.25\n",
      "14.46\n"
     ]
    },
    {
     "ename": "KeyboardInterrupt",
     "evalue": "",
     "traceback": [
      "\u001b[0;31m---------------------------------------------------------------------------\u001b[0m",
      "\u001b[0;31mKeyboardInterrupt\u001b[0m                         Traceback (most recent call last)",
      "\u001b[0;32m<ipython-input-23-9855239aae5b>\u001b[0m in \u001b[0;36m<module>\u001b[0;34m\u001b[0m\n\u001b[1;32m      8\u001b[0m \u001b[0;32mfor\u001b[0m \u001b[0mname\u001b[0m \u001b[0;32min\u001b[0m \u001b[0msource_names\u001b[0m\u001b[0;34m:\u001b[0m\u001b[0;34m\u001b[0m\u001b[0;34m\u001b[0m\u001b[0m\n\u001b[1;32m      9\u001b[0m     \u001b[0mprint\u001b[0m\u001b[0;34m(\u001b[0m\u001b[0mround\u001b[0m\u001b[0;34m(\u001b[0m\u001b[0;34m(\u001b[0m\u001b[0mcounter\u001b[0m \u001b[0;34m/\u001b[0m \u001b[0mtotal_len\u001b[0m\u001b[0;34m)\u001b[0m\u001b[0;34m*\u001b[0m\u001b[0;36m100\u001b[0m\u001b[0;34m,\u001b[0m \u001b[0;36m2\u001b[0m\u001b[0;34m)\u001b[0m\u001b[0;34m)\u001b[0m\u001b[0;34m\u001b[0m\u001b[0;34m\u001b[0m\u001b[0m\n\u001b[0;32m---> 10\u001b[0;31m     \u001b[0marticles\u001b[0m \u001b[0;34m=\u001b[0m \u001b[0mfetch_articles_by_source\u001b[0m\u001b[0;34m(\u001b[0m\u001b[0mname\u001b[0m\u001b[0;34m)\u001b[0m\u001b[0;34m\u001b[0m\u001b[0;34m\u001b[0m\u001b[0m\n\u001b[0m\u001b[1;32m     11\u001b[0m     \u001b[0mreal_articles\u001b[0m\u001b[0;34m.\u001b[0m\u001b[0mappend\u001b[0m\u001b[0;34m(\u001b[0m\u001b[0marticles\u001b[0m\u001b[0;34m)\u001b[0m\u001b[0;34m\u001b[0m\u001b[0;34m\u001b[0m\u001b[0m\n\u001b[1;32m     12\u001b[0m     \u001b[0mcounter\u001b[0m \u001b[0;34m+=\u001b[0m \u001b[0;36m1\u001b[0m\u001b[0;34m\u001b[0m\u001b[0;34m\u001b[0m\u001b[0m\n",
      "\u001b[0;32m<ipython-input-20-303370e85683>\u001b[0m in \u001b[0;36mfetch_articles_by_source\u001b[0;34m(source)\u001b[0m\n\u001b[1;32m      7\u001b[0m \u001b[0;32mdef\u001b[0m \u001b[0mfetch_articles_by_source\u001b[0m\u001b[0;34m(\u001b[0m\u001b[0msource\u001b[0m\u001b[0;34m)\u001b[0m\u001b[0;34m:\u001b[0m\u001b[0;34m\u001b[0m\u001b[0;34m\u001b[0m\u001b[0m\n\u001b[1;32m      8\u001b[0m     \u001b[0mquery\u001b[0m \u001b[0;34m=\u001b[0m \u001b[0;34m\"SELECT * FROM newsdata WHERE source='%s'\"\u001b[0m \u001b[0;34m%\u001b[0m \u001b[0msource\u001b[0m\u001b[0;34m\u001b[0m\u001b[0;34m\u001b[0m\u001b[0m\n\u001b[0;32m----> 9\u001b[0;31m     \u001b[0marticles\u001b[0m \u001b[0;34m=\u001b[0m \u001b[0mexecute_query_pandas\u001b[0m\u001b[0;34m(\u001b[0m\u001b[0mquery\u001b[0m\u001b[0;34m)\u001b[0m\u001b[0;34m\u001b[0m\u001b[0;34m\u001b[0m\u001b[0m\n\u001b[0m\u001b[1;32m     10\u001b[0m     \u001b[0;32mreturn\u001b[0m \u001b[0marticles\u001b[0m\u001b[0;34m\u001b[0m\u001b[0;34m\u001b[0m\u001b[0m\n\u001b[1;32m     11\u001b[0m \u001b[0;34m\u001b[0m\u001b[0m\n",
      "\u001b[0;32m<ipython-input-20-303370e85683>\u001b[0m in \u001b[0;36mexecute_query_pandas\u001b[0;34m(query)\u001b[0m\n\u001b[1;32m      1\u001b[0m \u001b[0;32mdef\u001b[0m \u001b[0mexecute_query_pandas\u001b[0m\u001b[0;34m(\u001b[0m\u001b[0mquery\u001b[0m\u001b[0;34m)\u001b[0m\u001b[0;34m:\u001b[0m\u001b[0;34m\u001b[0m\u001b[0;34m\u001b[0m\u001b[0m\n\u001b[1;32m      2\u001b[0m     \u001b[0mconn\u001b[0m \u001b[0;34m=\u001b[0m \u001b[0msqlite3\u001b[0m\u001b[0;34m.\u001b[0m\u001b[0mconnect\u001b[0m\u001b[0;34m(\u001b[0m\u001b[0mdb_path\u001b[0m\u001b[0;34m)\u001b[0m\u001b[0;34m\u001b[0m\u001b[0;34m\u001b[0m\u001b[0m\n\u001b[0;32m----> 3\u001b[0;31m     \u001b[0mdf\u001b[0m \u001b[0;34m=\u001b[0m \u001b[0mpd\u001b[0m\u001b[0;34m.\u001b[0m\u001b[0mread_sql_query\u001b[0m\u001b[0;34m(\u001b[0m\u001b[0mquery\u001b[0m\u001b[0;34m,\u001b[0m \u001b[0mconn\u001b[0m\u001b[0;34m)\u001b[0m\u001b[0;34m\u001b[0m\u001b[0;34m\u001b[0m\u001b[0m\n\u001b[0m\u001b[1;32m      4\u001b[0m     \u001b[0mconn\u001b[0m\u001b[0;34m.\u001b[0m\u001b[0mclose\u001b[0m\u001b[0;34m(\u001b[0m\u001b[0;34m)\u001b[0m\u001b[0;34m\u001b[0m\u001b[0;34m\u001b[0m\u001b[0m\n\u001b[1;32m      5\u001b[0m     \u001b[0;32mreturn\u001b[0m \u001b[0mdf\u001b[0m\u001b[0;34m\u001b[0m\u001b[0;34m\u001b[0m\u001b[0m\n",
      "\u001b[0;32m~/PycharmProjects/fake-news-detection/venv/lib/python3.6/site-packages/pandas/io/sql.py\u001b[0m in \u001b[0;36mread_sql_query\u001b[0;34m(sql, con, index_col, coerce_float, params, parse_dates, chunksize)\u001b[0m\n\u001b[1;32m    381\u001b[0m         \u001b[0mcoerce_float\u001b[0m\u001b[0;34m=\u001b[0m\u001b[0mcoerce_float\u001b[0m\u001b[0;34m,\u001b[0m\u001b[0;34m\u001b[0m\u001b[0;34m\u001b[0m\u001b[0m\n\u001b[1;32m    382\u001b[0m         \u001b[0mparse_dates\u001b[0m\u001b[0;34m=\u001b[0m\u001b[0mparse_dates\u001b[0m\u001b[0;34m,\u001b[0m\u001b[0;34m\u001b[0m\u001b[0;34m\u001b[0m\u001b[0m\n\u001b[0;32m--> 383\u001b[0;31m         \u001b[0mchunksize\u001b[0m\u001b[0;34m=\u001b[0m\u001b[0mchunksize\u001b[0m\u001b[0;34m,\u001b[0m\u001b[0;34m\u001b[0m\u001b[0;34m\u001b[0m\u001b[0m\n\u001b[0m\u001b[1;32m    384\u001b[0m     )\n\u001b[1;32m    385\u001b[0m \u001b[0;34m\u001b[0m\u001b[0m\n",
      "\u001b[0;32m~/PycharmProjects/fake-news-detection/venv/lib/python3.6/site-packages/pandas/io/sql.py\u001b[0m in \u001b[0;36mread_query\u001b[0;34m(self, sql, index_col, coerce_float, params, parse_dates, chunksize)\u001b[0m\n\u001b[1;32m   1738\u001b[0m             )\n\u001b[1;32m   1739\u001b[0m         \u001b[0;32melse\u001b[0m\u001b[0;34m:\u001b[0m\u001b[0;34m\u001b[0m\u001b[0;34m\u001b[0m\u001b[0m\n\u001b[0;32m-> 1740\u001b[0;31m             \u001b[0mdata\u001b[0m \u001b[0;34m=\u001b[0m \u001b[0mself\u001b[0m\u001b[0;34m.\u001b[0m\u001b[0m_fetchall_as_list\u001b[0m\u001b[0;34m(\u001b[0m\u001b[0mcursor\u001b[0m\u001b[0;34m)\u001b[0m\u001b[0;34m\u001b[0m\u001b[0;34m\u001b[0m\u001b[0m\n\u001b[0m\u001b[1;32m   1741\u001b[0m             \u001b[0mcursor\u001b[0m\u001b[0;34m.\u001b[0m\u001b[0mclose\u001b[0m\u001b[0;34m(\u001b[0m\u001b[0;34m)\u001b[0m\u001b[0;34m\u001b[0m\u001b[0;34m\u001b[0m\u001b[0m\n\u001b[1;32m   1742\u001b[0m \u001b[0;34m\u001b[0m\u001b[0m\n",
      "\u001b[0;32m~/PycharmProjects/fake-news-detection/venv/lib/python3.6/site-packages/pandas/io/sql.py\u001b[0m in \u001b[0;36m_fetchall_as_list\u001b[0;34m(self, cur)\u001b[0m\n\u001b[1;32m   1751\u001b[0m \u001b[0;34m\u001b[0m\u001b[0m\n\u001b[1;32m   1752\u001b[0m     \u001b[0;32mdef\u001b[0m \u001b[0m_fetchall_as_list\u001b[0m\u001b[0;34m(\u001b[0m\u001b[0mself\u001b[0m\u001b[0;34m,\u001b[0m \u001b[0mcur\u001b[0m\u001b[0;34m)\u001b[0m\u001b[0;34m:\u001b[0m\u001b[0;34m\u001b[0m\u001b[0;34m\u001b[0m\u001b[0m\n\u001b[0;32m-> 1753\u001b[0;31m         \u001b[0mresult\u001b[0m \u001b[0;34m=\u001b[0m \u001b[0mcur\u001b[0m\u001b[0;34m.\u001b[0m\u001b[0mfetchall\u001b[0m\u001b[0;34m(\u001b[0m\u001b[0;34m)\u001b[0m\u001b[0;34m\u001b[0m\u001b[0;34m\u001b[0m\u001b[0m\n\u001b[0m\u001b[1;32m   1754\u001b[0m         \u001b[0;32mif\u001b[0m \u001b[0;32mnot\u001b[0m \u001b[0misinstance\u001b[0m\u001b[0;34m(\u001b[0m\u001b[0mresult\u001b[0m\u001b[0;34m,\u001b[0m \u001b[0mlist\u001b[0m\u001b[0;34m)\u001b[0m\u001b[0;34m:\u001b[0m\u001b[0;34m\u001b[0m\u001b[0;34m\u001b[0m\u001b[0m\n\u001b[1;32m   1755\u001b[0m             \u001b[0mresult\u001b[0m \u001b[0;34m=\u001b[0m \u001b[0mlist\u001b[0m\u001b[0;34m(\u001b[0m\u001b[0mresult\u001b[0m\u001b[0;34m)\u001b[0m\u001b[0;34m\u001b[0m\u001b[0;34m\u001b[0m\u001b[0m\n",
      "\u001b[0;31mKeyboardInterrupt\u001b[0m: "
     ],
     "output_type": "error"
    }
   ],
   "source": [
    "real_articles = []\n",
    "\n",
    "start_time = time.time()\n",
    "\n",
    "total_len = len(source_names)\n",
    "counter = 0\n",
    "\n",
    "for name in source_names:\n",
    "    print(round((counter / total_len)*100, 2))\n",
    "    articles = fetch_articles_by_source(name)\n",
    "    real_articles.append(articles)\n",
    "    counter += 1\n",
    "    \n",
    "print(time.time() - start_time)"
   ]
  },
  {
   "cell_type": "code",
   "execution_count": 33,
   "metadata": {},
   "outputs": [],
   "source": [
    "df_real_articles = pd.concat(real_articles, ignore_index=True)"
   ]
  },
  {
   "cell_type": "code",
   "execution_count": 1,
   "metadata": {},
   "outputs": [
    {
     "ename": "NameError",
     "evalue": "name 'df_real_articles' is not defined",
     "traceback": [
      "\u001b[0;31m---------------------------------------------------------------------------\u001b[0m",
      "\u001b[0;31mNameError\u001b[0m                                 Traceback (most recent call last)",
      "\u001b[0;32m<ipython-input-1-5b9bea24ede6>\u001b[0m in \u001b[0;36m<module>\u001b[0;34m\u001b[0m\n\u001b[0;32m----> 1\u001b[0;31m \u001b[0mdf_real_articles\u001b[0m\u001b[0;34m.\u001b[0m\u001b[0mto_csv\u001b[0m\u001b[0;34m(\u001b[0m\u001b[0;34m'./data/all/real_articles.csv'\u001b[0m\u001b[0;34m,\u001b[0m \u001b[0mencoding\u001b[0m\u001b[0;34m=\u001b[0m\u001b[0;34m'utf-8'\u001b[0m\u001b[0;34m)\u001b[0m\u001b[0;34m\u001b[0m\u001b[0;34m\u001b[0m\u001b[0m\n\u001b[0m",
      "\u001b[0;31mNameError\u001b[0m: name 'df_real_articles' is not defined"
     ],
     "output_type": "error"
    }
   ],
   "source": [
    "df_real_articles.to_csv('./data/all/real_articles.csv', encoding='utf-8')"
   ]
  },
  {
   "cell_type": "markdown",
   "metadata": {},
   "source": [
    "### Select all articles from fake news sources"
   ]
  },
  {
   "cell_type": "code",
   "execution_count": 36,
   "metadata": {},
   "outputs": [],
   "source": [
    "fake_sources = pd.read_csv('./data/sources/fake_sources.csv')"
   ]
  },
  {
   "cell_type": "code",
   "execution_count": 37,
   "metadata": {},
   "outputs": [],
   "source": [
    "fake_source_names = fake_sources.source"
   ]
  },
  {
   "cell_type": "code",
   "execution_count": 41,
   "metadata": {
    "scrolled": true
   },
   "outputs": [
    {
     "data": {
      "text/plain": [
       "0      21stcenturywire\n",
       "1         activistpost\n",
       "2          ageofautism\n",
       "3    bigleaguepolitics\n",
       "4     bipartisanreport\n",
       "Name: source, dtype: object"
      ]
     },
     "execution_count": 41,
     "metadata": {},
     "output_type": "execute_result"
    }
   ],
   "source": [
    "fake_source_names.head()"
   ]
  },
  {
   "cell_type": "code",
   "execution_count": 42,
   "metadata": {},
   "outputs": [
    {
     "name": "stdout",
     "output_type": "stream",
     "text": [
      "0.0\n",
      "2.0\n",
      "4.0\n",
      "6.0\n",
      "8.0\n",
      "10.0\n",
      "12.0\n",
      "14.0\n",
      "16.0\n",
      "18.0\n",
      "20.0\n",
      "22.0\n",
      "24.0\n",
      "26.0\n",
      "28.0\n",
      "30.0\n",
      "32.0\n",
      "34.0\n",
      "36.0\n",
      "38.0\n",
      "40.0\n",
      "42.0\n",
      "44.0\n",
      "46.0\n",
      "48.0\n",
      "50.0\n",
      "52.0\n",
      "54.0\n",
      "56.0\n",
      "58.0\n",
      "60.0\n",
      "62.0\n",
      "64.0\n",
      "66.0\n",
      "68.0\n",
      "70.0\n",
      "72.0\n",
      "74.0\n",
      "76.0\n",
      "78.0\n",
      "80.0\n",
      "82.0\n",
      "84.0\n",
      "86.0\n",
      "88.0\n",
      "90.0\n",
      "92.0\n",
      "94.0\n",
      "96.0\n",
      "98.0\n",
      "766.4039537906647\n"
     ]
    }
   ],
   "source": [
    "fake_articles = []\n",
    "\n",
    "start_time = time.time()\n",
    "\n",
    "total_len = len(fake_source_names)\n",
    "counter = 0\n",
    "\n",
    "for name in fake_source_names:\n",
    "    print(round((counter / total_len)*100, 2))\n",
    "    articles = fetch_articles_by_source(name)\n",
    "    fake_articles.append(articles)\n",
    "    counter += 1\n",
    "    \n",
    "print(time.time() - start_time)"
   ]
  },
  {
   "cell_type": "code",
   "execution_count": 43,
   "metadata": {},
   "outputs": [],
   "source": [
    "df_fake_articles = pd.concat(fake_articles, ignore_index=True)"
   ]
  },
  {
   "cell_type": "code",
   "execution_count": 44,
   "metadata": {},
   "outputs": [],
   "source": [
    "df_fake_articles.to_csv('./data/all/fake_articles.csv', encoding='utf-8')"
   ]
  },
  {
   "cell_type": "markdown",
   "metadata": {},
   "source": [
    "### Select 100 random articles from each fake news source"
   ]
  },
  {
   "cell_type": "code",
   "execution_count": 199,
   "metadata": {},
   "outputs": [],
   "source": [
    "fake_sources = pd.read_csv('./data/sources/fake_sources.csv')"
   ]
  },
  {
   "cell_type": "code",
   "execution_count": 200,
   "metadata": {},
   "outputs": [],
   "source": [
    "fake_source_names = fake_sources.source"
   ]
  },
  {
   "cell_type": "code",
   "execution_count": 201,
   "metadata": {},
   "outputs": [
    {
     "data": {
      "text/html": [
       "<div>\n",
       "<style scoped>\n",
       "    .dataframe tbody tr th:only-of-type {\n",
       "        vertical-align: middle;\n",
       "    }\n",
       "\n",
       "    .dataframe tbody tr th {\n",
       "        vertical-align: top;\n",
       "    }\n",
       "\n",
       "    .dataframe thead th {\n",
       "        text-align: right;\n",
       "    }\n",
       "</style>\n",
       "<table border=\"1\" class=\"dataframe\">\n",
       "  <thead>\n",
       "    <tr style=\"text-align: right;\">\n",
       "      <th></th>\n",
       "      <th>id</th>\n",
       "      <th>source</th>\n",
       "      <th>label</th>\n",
       "    </tr>\n",
       "  </thead>\n",
       "  <tbody>\n",
       "    <tr>\n",
       "      <th>0</th>\n",
       "      <td>0</td>\n",
       "      <td>21stcenturywire</td>\n",
       "      <td>1.0</td>\n",
       "    </tr>\n",
       "    <tr>\n",
       "      <th>1</th>\n",
       "      <td>1</td>\n",
       "      <td>activistpost</td>\n",
       "      <td>1.0</td>\n",
       "    </tr>\n",
       "    <tr>\n",
       "      <th>2</th>\n",
       "      <td>2</td>\n",
       "      <td>ageofautism</td>\n",
       "      <td>1.0</td>\n",
       "    </tr>\n",
       "    <tr>\n",
       "      <th>3</th>\n",
       "      <td>3</td>\n",
       "      <td>bigleaguepolitics</td>\n",
       "      <td>1.0</td>\n",
       "    </tr>\n",
       "    <tr>\n",
       "      <th>4</th>\n",
       "      <td>4</td>\n",
       "      <td>bipartisanreport</td>\n",
       "      <td>1.0</td>\n",
       "    </tr>\n",
       "  </tbody>\n",
       "</table>\n",
       "</div>"
      ],
      "text/plain": [
       "   id             source  label\n",
       "0   0    21stcenturywire    1.0\n",
       "1   1       activistpost    1.0\n",
       "2   2        ageofautism    1.0\n",
       "3   3  bigleaguepolitics    1.0\n",
       "4   4   bipartisanreport    1.0"
      ]
     },
     "execution_count": 201,
     "metadata": {},
     "output_type": "execute_result"
    }
   ],
   "source": [
    "fake_sources.head()"
   ]
  },
  {
   "cell_type": "code",
   "execution_count": 202,
   "metadata": {},
   "outputs": [
    {
     "name": "stdout",
     "output_type": "stream",
     "text": [
      "21stcenturywire\n",
      "activistpost\n",
      "ageofautism\n",
      "bigleaguepolitics\n",
      "bipartisanreport\n",
      "bonginoreport\n",
      "breaking911\n",
      "breitbart\n",
      "clashdaily\n",
      "cnsnews\n",
      "collectiveevolution\n",
      "dailybuzzlive\n",
      "dailymail\n",
      "dailystormer\n",
      "dcgazette\n",
      "frontpagemagazine\n",
      "globalresearch\n",
      "hangthebankers\n",
      "humansarefree\n",
      "infowars\n",
      "intellihub\n",
      "lewrockwell\n",
      "liveaction\n",
      "naturalnews\n",
      "newsbud\n",
      "newspunch\n",
      "newswars\n",
      "occupydemocrats\n",
      "pamelagellerreport\n",
      "personalliberty\n",
      "prisonplanet\n",
      "remnantnewspaper\n",
      "rt\n",
      "shtfplan\n",
      "sottnet\n",
      "theantimedia\n",
      "thedailystar\n",
      "thedcclothesline\n",
      "theduran\n",
      "thegatewaypundit\n",
      "thelibertydaily\n",
      "trueactivist\n",
      "truepundit\n",
      "turningpointusa\n",
      "vaxxter\n",
      "vdare\n",
      "veteranstoday\n",
      "wakingtimes\n",
      "wnd\n",
      "zerohedge\n",
      "987.8500928878784\n"
     ]
    }
   ],
   "source": [
    "fake_articles = []\n",
    "\n",
    "start_time = time.time()\n",
    "\n",
    "for name in fake_source_names:\n",
    "    print(name)\n",
    "    articles = fetch_random_articles_by_source(name, 100)\n",
    "    fake_articles.append(articles)\n",
    "    \n",
    "print(time.time() - start_time)"
   ]
  },
  {
   "cell_type": "code",
   "execution_count": 203,
   "metadata": {},
   "outputs": [],
   "source": [
    "df_fake_articles = pd.concat(fake_articles, ignore_index=True)"
   ]
  },
  {
   "cell_type": "code",
   "execution_count": 204,
   "metadata": {},
   "outputs": [],
   "source": [
    "df_fake_articles.to_csv('./data/fake_articles_subset.csv')"
   ]
  },
  {
   "cell_type": "code",
   "execution_count": null,
   "metadata": {},
   "outputs": [],
   "source": []
  },
  {
   "cell_type": "markdown",
   "metadata": {},
   "source": [
    "### Append labels"
   ]
  },
  {
   "cell_type": "code",
   "execution_count": 253,
   "metadata": {},
   "outputs": [],
   "source": [
    "real_with_label = pd.merge(df_real_articles, real_sources, on='source')"
   ]
  },
  {
   "cell_type": "code",
   "execution_count": 260,
   "metadata": {},
   "outputs": [],
   "source": [
    "fake_with_label = pd.merge(df_fake_articles, fake_sources, on ='source')"
   ]
  },
  {
   "cell_type": "markdown",
   "metadata": {},
   "source": [
    "### Split into train, validation and test (for labeling functions)"
   ]
  },
  {
   "cell_type": "code",
   "execution_count": 263,
   "metadata": {},
   "outputs": [],
   "source": [
    "# Size from each category (fake, real)\n",
    "train_size = 1000\n",
    "validation_size = 250\n",
    "test_size = 250\n",
    "\n",
    "random_state = 7897"
   ]
  },
  {
   "cell_type": "markdown",
   "metadata": {},
   "source": [
    "### Real"
   ]
  },
  {
   "cell_type": "code",
   "execution_count": 264,
   "metadata": {},
   "outputs": [
    {
     "name": "stdout",
     "output_type": "stream",
     "text": [
      "<class 'pandas.core.frame.DataFrame'>\n",
      "Int64Index: 7893 entries, 0 to 7892\n",
      "Data columns (total 12 columns):\n",
      " #   Column          Non-Null Count  Dtype  \n",
      "---  ------          --------------  -----  \n",
      " 0   id_x            7893 non-null   object \n",
      " 1   date            7893 non-null   object \n",
      " 2   source          7893 non-null   object \n",
      " 3   title           7893 non-null   object \n",
      " 4   content         7893 non-null   object \n",
      " 5   author          7893 non-null   object \n",
      " 6   url             7893 non-null   object \n",
      " 7   published       7893 non-null   object \n",
      " 8   published_utc   7893 non-null   int64  \n",
      " 9   collection_utc  7893 non-null   int64  \n",
      " 10  id_y            7893 non-null   int64  \n",
      " 11  label           7893 non-null   float64\n",
      "dtypes: float64(1), int64(3), object(8)\n",
      "memory usage: 801.6+ KB\n"
     ]
    }
   ],
   "source": [
    "real_with_label.info()"
   ]
  },
  {
   "cell_type": "code",
   "execution_count": 265,
   "metadata": {},
   "outputs": [],
   "source": [
    "real_train, real_other = train_test_split(real_with_label, train_size=train_size, random_state = random_state)"
   ]
  },
  {
   "cell_type": "code",
   "execution_count": 266,
   "metadata": {},
   "outputs": [],
   "source": [
    "real_validation, real_test = train_test_split(real_other, \n",
    "                                              train_size=validation_size, \n",
    "                                              test_size = test_size, \n",
    "                                              random_state=random_state)"
   ]
  },
  {
   "cell_type": "markdown",
   "metadata": {},
   "source": [
    "### Fake"
   ]
  },
  {
   "cell_type": "code",
   "execution_count": 267,
   "metadata": {},
   "outputs": [
    {
     "name": "stdout",
     "output_type": "stream",
     "text": [
      "<class 'pandas.core.frame.DataFrame'>\n",
      "Int64Index: 4547 entries, 0 to 4546\n",
      "Data columns (total 12 columns):\n",
      " #   Column          Non-Null Count  Dtype  \n",
      "---  ------          --------------  -----  \n",
      " 0   id_x            4547 non-null   object \n",
      " 1   date            4547 non-null   object \n",
      " 2   source          4547 non-null   object \n",
      " 3   title           4547 non-null   object \n",
      " 4   content         4547 non-null   object \n",
      " 5   author          4547 non-null   object \n",
      " 6   url             4547 non-null   object \n",
      " 7   published       4547 non-null   object \n",
      " 8   published_utc   4547 non-null   int64  \n",
      " 9   collection_utc  4547 non-null   int64  \n",
      " 10  id_y            4547 non-null   int64  \n",
      " 11  label           4547 non-null   float64\n",
      "dtypes: float64(1), int64(3), object(8)\n",
      "memory usage: 461.8+ KB\n"
     ]
    }
   ],
   "source": [
    "fake_with_label.info()"
   ]
  },
  {
   "cell_type": "code",
   "execution_count": 268,
   "metadata": {},
   "outputs": [],
   "source": [
    "fake_train, fake_other = train_test_split(fake_with_label, train_size=train_size, random_state = random_state)"
   ]
  },
  {
   "cell_type": "code",
   "execution_count": 269,
   "metadata": {},
   "outputs": [],
   "source": [
    "fake_validation, fake_test = train_test_split(fake_other, \n",
    "                                              train_size=validation_size, \n",
    "                                              test_size = test_size, \n",
    "                                              random_state=random_state)"
   ]
  },
  {
   "cell_type": "markdown",
   "metadata": {},
   "source": [
    "### Concat, shuffle and save datasets"
   ]
  },
  {
   "cell_type": "code",
   "execution_count": 286,
   "metadata": {},
   "outputs": [],
   "source": [
    "# Train\n",
    "train_subset = pd.concat([real_train, fake_train], ignore_index=True)\n",
    "train_subset = shuffle(train_subset)\n",
    "train_subset = train_subset.reset_index(drop=True)"
   ]
  },
  {
   "cell_type": "code",
   "execution_count": 292,
   "metadata": {},
   "outputs": [],
   "source": [
    "# Validation\n",
    "validation_subset = pd.concat([real_validation, fake_validation], ignore_index=True)\n",
    "validation_subset = shuffle(validation_subset)\n",
    "validation_subset = validation_subset.reset_index(drop=True)"
   ]
  },
  {
   "cell_type": "code",
   "execution_count": 293,
   "metadata": {},
   "outputs": [],
   "source": [
    "# Test\n",
    "test_subset = pd.concat([real_test, fake_test], ignore_index=True)\n",
    "test_subset = shuffle(test_subset)\n",
    "test_subset = test_subset.reset_index(drop=True)"
   ]
  },
  {
   "cell_type": "code",
   "execution_count": 298,
   "metadata": {},
   "outputs": [],
   "source": [
    "# Save to CSV\n",
    "train_subset.to_csv('./data/train_subset.csv', index=True)\n",
    "validation_subset.to_csv('./data/validation_subset.csv', index=True)\n",
    "test_subset.to_csv('./data/test_subset.csv', index=True)"
   ]
  },
  {
   "cell_type": "code",
   "execution_count": 303,
   "metadata": {},
   "outputs": [],
   "source": [
    "# Make sure that there are no duplicates\n",
    "check_duplicates = pd.concat([train_subset, validation_subset, test_subset], ignore_index=True)"
   ]
  },
  {
   "cell_type": "code",
   "execution_count": 305,
   "metadata": {},
   "outputs": [
    {
     "name": "stdout",
     "output_type": "stream",
     "text": [
      "Empty DataFrame\n",
      "Columns: [id_x, date, source, title, content, author, url, published, published_utc, collection_utc, id_y, label]\n",
      "Index: []\n"
     ]
    }
   ],
   "source": [
    "dup = check_duplicates[check_duplicates.duplicated()]\n",
    "print(dup)"
   ]
  },
  {
   "cell_type": "markdown",
   "metadata": {},
   "source": [
    "### Source 0: 21st Century Wire"
   ]
  },
  {
   "cell_type": "code",
   "execution_count": 107,
   "metadata": {},
   "outputs": [
    {
     "name": "stdout",
     "output_type": "stream",
     "text": [
      "21stcenturywire 1.0\n"
     ]
    }
   ],
   "source": [
    "source_0 = fake_sources.source[0]\n",
    "label_0 = fake_sources.label[0]\n",
    "print(source_0, label_0)"
   ]
  },
  {
   "cell_type": "code",
   "execution_count": 113,
   "metadata": {},
   "outputs": [
    {
     "name": "stdout",
     "output_type": "stream",
     "text": [
      "29.457087993621826\n"
     ]
    }
   ],
   "source": [
    "start_time = time.time()\n",
    "articles_0 = fetch_random_articles_by_source(source_0, 100)\n",
    "print(time.time() - start_time)"
   ]
  },
  {
   "cell_type": "code",
   "execution_count": 115,
   "metadata": {},
   "outputs": [
    {
     "name": "stdout",
     "output_type": "stream",
     "text": [
      "<class 'pandas.core.frame.DataFrame'>\n",
      "RangeIndex: 100 entries, 0 to 99\n",
      "Data columns (total 10 columns):\n",
      " #   Column          Non-Null Count  Dtype \n",
      "---  ------          --------------  ----- \n",
      " 0   id              100 non-null    object\n",
      " 1   date            100 non-null    object\n",
      " 2   source          100 non-null    object\n",
      " 3   title           100 non-null    object\n",
      " 4   content         100 non-null    object\n",
      " 5   author          100 non-null    object\n",
      " 6   url             100 non-null    object\n",
      " 7   published       100 non-null    object\n",
      " 8   published_utc   100 non-null    int64 \n",
      " 9   collection_utc  100 non-null    int64 \n",
      "dtypes: int64(2), object(8)\n",
      "memory usage: 7.9+ KB\n"
     ]
    }
   ],
   "source": [
    "articles_0.info()"
   ]
  },
  {
   "cell_type": "code",
   "execution_count": 19,
   "metadata": {},
   "outputs": [
    {
     "name": "stdout",
     "output_type": "stream",
     "text": [
      "Journalist Robert Inlakesh reported live from the streets of London earlier this week, covering a protest against the U.K. Government’s ‘Trump train’ support of regime change on Venezuela.\n",
      "\n",
      "\n",
      "\n",
      " Protesters marched on the streets of London in the late afternoon on Monday. Protests like these aren’t covered by the mainstream press.\n",
      "\n",
      "During this captivating 13-minute video, Inlakesh speaks with some of the Venezuelan protesters to get their candid views on the current crisis unfolding in their home country. The people gathered at this demonstration are in clear opposition to the regime change tactics used by foreign powers on oil-rich nations like Venezuela. Watch:\n"
     ]
    }
   ],
   "source": [
    "print(articles_0.content[0])"
   ]
  },
  {
   "cell_type": "markdown",
   "metadata": {},
   "source": [
    "### Source 1: ABC News"
   ]
  },
  {
   "cell_type": "code",
   "execution_count": 169,
   "metadata": {},
   "outputs": [
    {
     "name": "stdout",
     "output_type": "stream",
     "text": [
      "abcnews 0.0\n"
     ]
    }
   ],
   "source": [
    "source_1 = real_sources.source[0]\n",
    "label_1 = real_sources.label[0]\n",
    "print(source_1, label_1)"
   ]
  },
  {
   "cell_type": "code",
   "execution_count": 170,
   "metadata": {},
   "outputs": [],
   "source": [
    "articles_1 = fetch_articles_by_source(source_1)"
   ]
  },
  {
   "cell_type": "code",
   "execution_count": 173,
   "metadata": {
    "scrolled": true
   },
   "outputs": [
    {
     "name": "stdout",
     "output_type": "stream",
     "text": [
      "<class 'pandas.core.frame.DataFrame'>\n",
      "RangeIndex: 2861 entries, 0 to 2860\n",
      "Data columns (total 10 columns):\n",
      " #   Column          Non-Null Count  Dtype \n",
      "---  ------          --------------  ----- \n",
      " 0   id              2861 non-null   object\n",
      " 1   date            2861 non-null   object\n",
      " 2   source          2861 non-null   object\n",
      " 3   title           2861 non-null   object\n",
      " 4   content         2861 non-null   object\n",
      " 5   author          2861 non-null   object\n",
      " 6   url             2861 non-null   object\n",
      " 7   published       2861 non-null   object\n",
      " 8   published_utc   2861 non-null   int64 \n",
      " 9   collection_utc  2861 non-null   int64 \n",
      "dtypes: int64(2), object(8)\n",
      "memory usage: 223.6+ KB\n"
     ]
    }
   ],
   "source": [
    "articles_1.info()"
   ]
  },
  {
   "cell_type": "code",
   "execution_count": 174,
   "metadata": {},
   "outputs": [],
   "source": [
    "articles_1.to_csv('./data/sample.csv', index=True)"
   ]
  },
  {
   "cell_type": "markdown",
   "metadata": {},
   "source": [
    "Looks like we want to clean it by removing \\n's etc. "
   ]
  },
  {
   "cell_type": "markdown",
   "metadata": {},
   "source": [
    "# Date analysis on 5 first sources"
   ]
  },
  {
   "cell_type": "code",
   "execution_count": 25,
   "metadata": {},
   "outputs": [],
   "source": [
    "source_labels_without_nan = source_labels_aggregated.dropna()"
   ]
  },
  {
   "cell_type": "code",
   "execution_count": 26,
   "metadata": {},
   "outputs": [
    {
     "name": "stdout",
     "output_type": "stream",
     "text": [
      "<class 'pandas.core.frame.DataFrame'>\n",
      "Int64Index: 183 entries, 0 to 259\n",
      "Data columns (total 2 columns):\n",
      " #   Column            Non-Null Count  Dtype  \n",
      "---  ------            --------------  -----  \n",
      " 0   source            183 non-null    object \n",
      " 1   aggregated_label  183 non-null    float64\n",
      "dtypes: float64(1), object(1)\n",
      "memory usage: 4.3+ KB\n"
     ]
    }
   ],
   "source": [
    "source_labels_without_nan.info()"
   ]
  },
  {
   "cell_type": "code",
   "execution_count": 27,
   "metadata": {},
   "outputs": [],
   "source": [
    "first_five = source_labels_without_nan.head(5)"
   ]
  },
  {
   "cell_type": "code",
   "execution_count": 28,
   "metadata": {},
   "outputs": [],
   "source": [
    "# Fetch articles from database\n",
    "\n",
    "first_five_articles = []\n",
    "\n",
    "for index, row in first_five.iterrows():\n",
    "    source = row.source\n",
    "    articles = fetch_articles_by_source(source)\n",
    "    first_five_articles.append(articles)"
   ]
  },
  {
   "cell_type": "code",
   "execution_count": 38,
   "metadata": {},
   "outputs": [],
   "source": [
    "df_articles = pd.concat(first_five_articles, ignore_index=True)"
   ]
  },
  {
   "cell_type": "code",
   "execution_count": 39,
   "metadata": {},
   "outputs": [
    {
     "data": {
      "text/html": [
       "<div>\n",
       "<style scoped>\n",
       "    .dataframe tbody tr th:only-of-type {\n",
       "        vertical-align: middle;\n",
       "    }\n",
       "\n",
       "    .dataframe tbody tr th {\n",
       "        vertical-align: top;\n",
       "    }\n",
       "\n",
       "    .dataframe thead th {\n",
       "        text-align: right;\n",
       "    }\n",
       "</style>\n",
       "<table border=\"1\" class=\"dataframe\">\n",
       "  <thead>\n",
       "    <tr style=\"text-align: right;\">\n",
       "      <th></th>\n",
       "      <th>id</th>\n",
       "      <th>date</th>\n",
       "      <th>source</th>\n",
       "      <th>title</th>\n",
       "      <th>content</th>\n",
       "      <th>author</th>\n",
       "      <th>url</th>\n",
       "      <th>published</th>\n",
       "      <th>published_utc</th>\n",
       "      <th>collection_utc</th>\n",
       "    </tr>\n",
       "  </thead>\n",
       "  <tbody>\n",
       "    <tr>\n",
       "      <th>0</th>\n",
       "      <td>21stcenturywire--2019-01-30--WATCH Londoners P...</td>\n",
       "      <td>2019-01-30</td>\n",
       "      <td>21stcenturywire</td>\n",
       "      <td>WATCH: Londoners Protest UK Government’s Regim...</td>\n",
       "      <td>Journalist Robert Inlakesh reported live from ...</td>\n",
       "      <td>21wire</td>\n",
       "      <td>https://21stcenturywire.com/2019/01/30/watch-l...</td>\n",
       "      <td>2019-01-30 17:59:19+00:00</td>\n",
       "      <td>1548889159</td>\n",
       "      <td>1567550189</td>\n",
       "    </tr>\n",
       "    <tr>\n",
       "      <th>1</th>\n",
       "      <td>21stcenturywire--2019-07-24--Digital Wonderlan...</td>\n",
       "      <td>2019-07-24</td>\n",
       "      <td>21stcenturywire</td>\n",
       "      <td>Digital Wonderland: AI, Transhumanism and Faux...</td>\n",
       "      <td>If you watch the sci-tech news regularly, you ...</td>\n",
       "      <td>21wire</td>\n",
       "      <td>https://21stcenturywire.com/2019/07/24/digital...</td>\n",
       "      <td>2019-07-24 07:20:53+00:00</td>\n",
       "      <td>1563967253</td>\n",
       "      <td>1567535914</td>\n",
       "    </tr>\n",
       "    <tr>\n",
       "      <th>2</th>\n",
       "      <td>21stcenturywire--2019-07-24--South Korean Air ...</td>\n",
       "      <td>2019-07-24</td>\n",
       "      <td>21stcenturywire</td>\n",
       "      <td>South Korean Air Force Fires Warning Shots at ...</td>\n",
       "      <td>Yesterday, Russia and China carried out what i...</td>\n",
       "      <td>21wire</td>\n",
       "      <td>https://21stcenturywire.com/2019/07/24/south-k...</td>\n",
       "      <td>2019-07-24 07:33:51+00:00</td>\n",
       "      <td>1563968031</td>\n",
       "      <td>1567535914</td>\n",
       "    </tr>\n",
       "    <tr>\n",
       "      <th>3</th>\n",
       "      <td>21stcenturywire--2019-04-07--Will Kurds merge ...</td>\n",
       "      <td>2019-04-07</td>\n",
       "      <td>21stcenturywire</td>\n",
       "      <td>Will Kurds merge with ISIS as U.S combines pro...</td>\n",
       "      <td>Kurdish fighters have been used by the US to o...</td>\n",
       "      <td>21wire</td>\n",
       "      <td>https://21stcenturywire.com/2019/04/07/will-ku...</td>\n",
       "      <td>2019-04-07 08:17:00+00:00</td>\n",
       "      <td>1554639420</td>\n",
       "      <td>1567543653</td>\n",
       "    </tr>\n",
       "    <tr>\n",
       "      <th>4</th>\n",
       "      <td>21stcenturywire--2019-04-07--Whats Behind Jere...</td>\n",
       "      <td>2019-04-07</td>\n",
       "      <td>21stcenturywire</td>\n",
       "      <td>What’s Behind Jeremy Hunt’s Choice of Amal Clo...</td>\n",
       "      <td>\\n\\n IMAGE: Jeremy Hunt and Amal Clooney campa...</td>\n",
       "      <td>Nina Cross</td>\n",
       "      <td>https://21stcenturywire.com/2019/04/07/whats-b...</td>\n",
       "      <td>2019-04-07 11:36:59+00:00</td>\n",
       "      <td>1554651419</td>\n",
       "      <td>1567543653</td>\n",
       "    </tr>\n",
       "  </tbody>\n",
       "</table>\n",
       "</div>"
      ],
      "text/plain": [
       "                                                  id        date  \\\n",
       "0  21stcenturywire--2019-01-30--WATCH Londoners P...  2019-01-30   \n",
       "1  21stcenturywire--2019-07-24--Digital Wonderlan...  2019-07-24   \n",
       "2  21stcenturywire--2019-07-24--South Korean Air ...  2019-07-24   \n",
       "3  21stcenturywire--2019-04-07--Will Kurds merge ...  2019-04-07   \n",
       "4  21stcenturywire--2019-04-07--Whats Behind Jere...  2019-04-07   \n",
       "\n",
       "            source                                              title  \\\n",
       "0  21stcenturywire  WATCH: Londoners Protest UK Government’s Regim...   \n",
       "1  21stcenturywire  Digital Wonderland: AI, Transhumanism and Faux...   \n",
       "2  21stcenturywire  South Korean Air Force Fires Warning Shots at ...   \n",
       "3  21stcenturywire  Will Kurds merge with ISIS as U.S combines pro...   \n",
       "4  21stcenturywire  What’s Behind Jeremy Hunt’s Choice of Amal Clo...   \n",
       "\n",
       "                                             content      author  \\\n",
       "0  Journalist Robert Inlakesh reported live from ...      21wire   \n",
       "1  If you watch the sci-tech news regularly, you ...      21wire   \n",
       "2  Yesterday, Russia and China carried out what i...      21wire   \n",
       "3  Kurdish fighters have been used by the US to o...      21wire   \n",
       "4  \\n\\n IMAGE: Jeremy Hunt and Amal Clooney campa...  Nina Cross   \n",
       "\n",
       "                                                 url  \\\n",
       "0  https://21stcenturywire.com/2019/01/30/watch-l...   \n",
       "1  https://21stcenturywire.com/2019/07/24/digital...   \n",
       "2  https://21stcenturywire.com/2019/07/24/south-k...   \n",
       "3  https://21stcenturywire.com/2019/04/07/will-ku...   \n",
       "4  https://21stcenturywire.com/2019/04/07/whats-b...   \n",
       "\n",
       "                   published  published_utc  collection_utc  \n",
       "0  2019-01-30 17:59:19+00:00     1548889159      1567550189  \n",
       "1  2019-07-24 07:20:53+00:00     1563967253      1567535914  \n",
       "2  2019-07-24 07:33:51+00:00     1563968031      1567535914  \n",
       "3  2019-04-07 08:17:00+00:00     1554639420      1567543653  \n",
       "4  2019-04-07 11:36:59+00:00     1554651419      1567543653  "
      ]
     },
     "execution_count": 39,
     "metadata": {},
     "output_type": "execute_result"
    }
   ],
   "source": [
    "df_articles.head()"
   ]
  },
  {
   "cell_type": "code",
   "execution_count": 67,
   "metadata": {},
   "outputs": [],
   "source": [
    "df_articles.date = pd.to_datetime(df_articles.date)"
   ]
  },
  {
   "cell_type": "code",
   "execution_count": 70,
   "metadata": {},
   "outputs": [],
   "source": [
    "df_dates = df_articles.date.copy()"
   ]
  },
  {
   "cell_type": "code",
   "execution_count": 84,
   "metadata": {},
   "outputs": [],
   "source": [
    "date_counts = df_dates.value_counts().sort_index().reset_index()\n",
    "date_counts.columns = ['date', 'occurences']"
   ]
  },
  {
   "cell_type": "code",
   "execution_count": 92,
   "metadata": {},
   "outputs": [
    {
     "data": {
      "image/png": "[encoded data removed]",
      "text/plain": [
       "<Figure size 432x288 with 1 Axes>"
      ]
     },
     "metadata": {
      "needs_background": "light"
     },
     "output_type": "display_data"
    }
   ],
   "source": [
    "fig, ax = plt.subplots()\n",
    "ax.plot_date(date_counts.date, date_counts.occurences, fmt='.', color='k')\n",
    "fig.autofmt_xdate()\n",
    "plt.xlabel('Date')\n",
    "plt.ylabel('Counts')\n",
    "plt.show()"
   ]
  }
 ],
 "metadata": {
  "kernelspec": {
   "display_name": "Python 3",
   "language": "python",
   "name": "python3"
  },
  "language_info": {
   "codemirror_mode": {
    "name": "ipython",
    "version": 3
   },
   "file_extension": ".py",
   "mimetype": "text/x-python",
   "name": "python",
   "nbconvert_exporter": "python",
   "pygments_lexer": "ipython3",
   "version": "3.6.12"
  }
 },
 "nbformat": 4,
 "nbformat_minor": 4
}
